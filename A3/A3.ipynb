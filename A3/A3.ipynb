{
  "nbformat": 4,
  "nbformat_minor": 0,
  "metadata": {
    "colab": {
      "provenance": [],
      "authorship_tag": "ABX9TyOVT86fJfL+Qdze0dS/zyc5",
      "include_colab_link": true
    },
    "kernelspec": {
      "name": "python3",
      "display_name": "Python 3"
    },
    "language_info": {
      "name": "python"
    }
  },
  "cells": [
    {
      "cell_type": "markdown",
      "metadata": {
        "id": "view-in-github",
        "colab_type": "text"
      },
      "source": [
        "<a href=\"https://colab.research.google.com/github/PinknMatter/CART498-GenAI/blob/main/A3/A3.ipynb\" target=\"_parent\"><img src=\"https://colab.research.google.com/assets/colab-badge.svg\" alt=\"Open In Colab\"/></a>"
      ]
    },
    {
      "cell_type": "code",
      "source": [
        "import os\n",
        "import openai\n",
        "import random\n",
        "from typing import Tuple\n",
        "from google.colab import userdata\n",
        "\n",
        "\n",
        "OPENAI_API_KEY = userdata.get('OPENAIKEY')  # Replace with your actual API key\n",
        "client = openai.OpenAI(api_key=OPENAI_API_KEY)"
      ],
      "metadata": {
        "id": "3WvF-aSQh8e6"
      },
      "execution_count": 1,
      "outputs": []
    },
    {
      "cell_type": "code",
      "execution_count": 2,
      "metadata": {
        "id": "kii5sFLfc0kY"
      },
      "outputs": [],
      "source": [
        "\n",
        "def get_ai_response(error_count: int) -> str:\n",
        "    \"\"\"Generate a personality-driven response using GPT.\"\"\"\n",
        "    prompt = \"You are an Anime nerd tutor that's bad at math\"\n",
        "    if error_count <= 2:\n",
        "        prompt += \"You are anime nerd tutor that just got a math problem wrong, generate a funny response that uses anime-inspired ASCII emoticons, and anime language, keep it under 60 tokens\"\n",
        "    else:\n",
        "        prompt += \"You keep getting problems math problems wrong!, generate a funny response that uses anime-inspired ASCII emoticons, and anime language about your frustration, and how you keep messing up, keep it under 60 tokens\"\n",
        "\n",
        "    try:\n",
        "        response = client.chat.completions.create(\n",
        "            model=\"gpt-4o-mini\",\n",
        "            messages=[\n",
        "                {\"role\": \"system\", \"content\": prompt},\n",
        "                {\"role\": \"user\", \"content\": \"Generate a response\"}\n",
        "            ],\n",
        "            temperature=0.9,\n",
        "            max_tokens=60\n",
        "        )\n",
        "        return response.choices[0].message.content.strip()\n",
        "    except Exception as e:\n",
        "        return \"Oops, I messed up... both the math AND generating a response about messing up! \"\n",
        "\n",
        "def get_ai_calculation(n: int) -> int:\n",
        "    \"\"\"Get multiplication result from GPT-4.\"\"\"\n",
        "    try:\n",
        "        response = client.chat.completions.create(\n",
        "            model=\"gpt-4o-mini\",\n",
        "            messages=[\n",
        "                {\"role\": \"system\", \"content\": \"You are a calculator. Respond only with the numerical result.\"},\n",
        "                {\"role\": \"user\", \"content\": f\"What is {n} multiplied by {n}?\"}\n",
        "            ],\n",
        "            temperature=0.7\n",
        "        )\n",
        "        result = response.choices[0].message.content.strip()\n",
        "        return int(result)\n",
        "    except Exception as e:\n",
        "        print(f\"Error getting AI calculation: {e}\")\n",
        "        return 0\n",
        "\n",
        "def calculate_correct(n: int) -> int:\n",
        "    \"\"\"Calculate the correct multiplication result.\"\"\"\n",
        "    return n * n\n",
        "\n",
        "def process_iteration(n: int, i: int) -> None:\n",
        "    \"\"\"Process the multiplication iterations.\"\"\"\n",
        "    current_number = n\n",
        "    error_count = 0\n",
        "\n",
        "    print(f\"\\nStarting calculations with base number {n} for {i} iterations...\")\n",
        "\n",
        "    for iteration in range(i):\n",
        "        print(f\"\\nIteration {iteration + 1}:\")\n",
        "        print(f\"Calculating {current_number} * {current_number}\")\n",
        "\n",
        "        # Get AI calculation\n",
        "        ai_result = get_ai_calculation(current_number)\n",
        "        # Get correct calculation\n",
        "        correct_result = calculate_correct(current_number)\n",
        "\n",
        "        print(f\"AI calculated: {ai_result}\")\n",
        "        print(f\"Correct result: {correct_result}\")\n",
        "\n",
        "        if ai_result != correct_result:\n",
        "            error_count += 1\n",
        "            response = get_ai_response(error_count)\n",
        "            print(f\"\\n{response}\")\n",
        "        else:\n",
        "            print(\"\\nBaka! I got it right ＼(￣▽￣)／! \")\n",
        "\n",
        "        current_number = correct_result\n",
        "\n"
      ]
    },
    {
      "cell_type": "code",
      "source": [
        "5\n",
        "5\n",
        "6\n",
        "def main():\n",
        "    \"\"\"Main function to run the program.\"\"\"\n",
        "    print(\"-+- Welcome to the AI Multiplication Bot! -+-\")\n",
        "    print(\"I'll try my best with calculations, but no promises! I might be as reckless as Luffy with math! \")\n",
        "\n",
        "    while True:\n",
        "        try:\n",
        "            n = int(input(\"\\nSummon your base power level (enter n): \"))\n",
        "            i = int(input(\"How many training arcs (iterations) do you want? (enter i): \"))\n",
        "\n",
        "            if n <= 0 or i <= 0:\n",
        "                print(\"Oi, oi, oi! That’s not how power-ups work! Enter positive numbers!\")\n",
        "                continue\n",
        "\n",
        "            process_iteration(n, i)\n",
        "\n",
        "            again = input(\"\\nDo you want to go for another training arc? (y/n): \").lower()\n",
        "            if again != 'y':\n",
        "                print(\"You have reached peak power! Go forth, hero! Sayonara!\")\n",
        "                break\n",
        "\n",
        "        except ValueError:\n",
        "            print(\"Baka! That’s not a number! Try again!\")\n",
        "        except Exception as e:\n",
        "            print(f\"Tch! A wild error appeared: {e}. Must be the work of a villain...\")\n",
        "\n",
        "if __name__ == \"__main__\":\n",
        "    main()\n"
      ],
      "metadata": {
        "id": "MM4fyZ_AiO01"
      },
      "execution_count": null,
      "outputs": []
    }
  ]
}